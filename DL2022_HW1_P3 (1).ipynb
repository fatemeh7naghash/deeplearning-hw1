{
  "cells": [
    {
      "cell_type": "markdown",
      "metadata": {
        "id": "vo3BbmCBXs6j"
      },
      "source": [
        "# Deep Learning"
      ]
    },
    {
      "cell_type": "markdown",
      "metadata": {
        "id": "gvSnAycTXs6v"
      },
      "source": [
        "## HW1- Problem 3 - Regression (100 pts)"
      ]
    },
    {
      "cell_type": "markdown",
      "metadata": {
        "id": "BR3LQVaKXs6x"
      },
      "source": [
        "### Please fill this part\n",
        "\n",
        "\n",
        "1.   Full Name: Fatemeh.Naghash\n",
        "2.   Student Number: 400206381\n",
        "\n",
        "\n",
        "*You are just allowded to change those parts that start with \"TO DO\". Please do not change other parts.*\n",
        "\n",
        "*It is highly recommended to read each codeline carefully and try to understand what it exactly does. Best of luck and have fun!*"
      ]
    },
    {
      "cell_type": "code",
      "execution_count": 1,
      "metadata": {
        "colab": {
          "base_uri": "https://localhost:8080/"
        },
        "id": "zXGhfSGdXs6y",
        "outputId": "f00f9754-0def-40fb-cbce-975a35d7a3ae"
      },
      "outputs": [
        {
          "output_type": "stream",
          "name": "stdout",
          "text": [
            "Mounted at /content/drive\n"
          ]
        }
      ],
      "source": [
        "# You are not allowed to import other packages.\n",
        "\n",
        "import numpy as np\n",
        "import pandas as pd\n",
        "\n",
        "from matplotlib import pyplot as plt\n",
        "from sklearn.metrics import mean_squared_error\n",
        "from google.colab import drive\n",
        "drive.mount('/content/drive')"
      ]
    },
    {
      "cell_type": "markdown",
      "metadata": {
        "id": "6xvH72q9Xs61"
      },
      "source": [
        "### Part1:\n",
        "Consider the dataset which has been given to you. Split the dataset into the `training dataset` and `test dataset`. You can use `80%` of the data for training and the rest for testing."
      ]
    },
    {
      "cell_type": "code",
      "execution_count": 98,
      "metadata": {
        "colab": {
          "base_uri": "https://localhost:8080/"
        },
        "id": "TQ0sc2L7Xs62",
        "outputId": "0c1df323-0844-4d5a-bf4d-a79887c1bad5"
      },
      "outputs": [
        {
          "output_type": "stream",
          "name": "stdout",
          "text": [
            "Total Number of rows in train: (400, 1)\n",
            "Total Number of rows in test: (100,)\n"
          ]
        }
      ],
      "source": [
        "dataset = pd.read_csv(\"/content/drive/MyDrive/csv/data01.csv\")\n",
        "\n",
        "# implement the split part\n",
        " #name them: x_train, x_test, y_train, y_test\n",
        "x_train=np.expand_dims((dataset[:int(0.8*len(dataset))]['X']).values,axis=1)\n",
        "y_train=np.expand_dims((dataset[:int(0.8*len(dataset))]['Y']).values,axis=1)\n",
        "\n",
        "x_test=(dataset[int(0.8*len(dataset)):]['X']).values\n",
        "y_test=(dataset[int(0.8*len(dataset)):]['Y']).values\n",
        "#s_f = 0.8\n",
        "#x = dataset.iloc[:,1].to_numpy()\n",
        "#y= dataset.iloc[:,-1].to_numpy()\n",
        "#n_train = math.floor(s_f * x.shape[0])\n",
        "#n_test = math.ceil((1-s_f) * x.shape[0])\n",
        "#x_train = x[:n_train]\n",
        "#y_train = y[:n_train]\n",
        "#x_test = x[n_train:]\n",
        "#y_test = y[n_train:]\n",
        "print(\"Total Number of rows in train:\",np.shape(x_train))\n",
        "print(\"Total Number of rows in test:\",x_test.shape)\n"
      ]
    },
    {
      "cell_type": "markdown",
      "metadata": {
        "id": "-EnpNeOEXs63"
      },
      "source": [
        "### Part2:\n",
        "Assume there is simple linear relationship between X and Y. Train a simple `Linear Regression` on the training dataset and report its accuracy on the training and testing dataset, separately."
      ]
    },
    {
      "cell_type": "code",
      "execution_count": 99,
      "metadata": {
        "colab": {
          "base_uri": "https://localhost:8080/"
        },
        "id": "3zX_jgHiXs64",
        "outputId": "f2a8a980-f633-4cb3-8dd1-07061a84362c"
      },
      "outputs": [
        {
          "output_type": "stream",
          "name": "stdout",
          "text": [
            "(400, 2)\n",
            "[[-1.02641738]\n",
            " [ 0.81500634]]\n"
          ]
        }
      ],
      "source": [
        "# here you can implement via sgd or use least square solution. we suggest the second one inv(A^T A) * A^T y.\n",
        "# consider m as the returned line --> m[0] = the slope , m[1] = y intercept, also don't forget to use numpy for calculating m.\n",
        "#A=np.hstack((np.reshape(x_train,(-1,1)),np.ones((x_train.shape[0],1))))\n",
        "n=len(x_train)\n",
        "A=np.hstack([x_train, np.ones((n,1))])\n",
        "print(A.shape)\n",
        "#lstsq\n",
        "#solves G*m=d for m\n",
        "#(G'*G)^{-1}*G'*d=mhat\n",
        "\n",
        "\n",
        "#mhat,residuals,rank,s=np.linalg.lstsq(A,y_train)\n",
        "\n",
        "ATA = np.dot(A.T, A)\n",
        "ATB = np.dot(A.T, y_train)\n",
        "a=np.linalg.inv(ATA)\n",
        "mhat=np.dot(a,ATB)\n",
        " \n",
        "print(mhat)\n",
        "\n"
      ]
    },
    {
      "cell_type": "code",
      "execution_count": 100,
      "metadata": {
        "colab": {
          "base_uri": "https://localhost:8080/"
        },
        "id": "2BRNw9oxPFIv",
        "outputId": "bef91ef3-91f9-4026-a68b-c5bc16ac310f"
      },
      "outputs": [
        {
          "output_type": "stream",
          "name": "stdout",
          "text": [
            "MSE train error: 0.3246776301777423\n",
            "MSE test error: 0.3544951192130029\n"
          ]
        }
      ],
      "source": [
        "predicted_train_y = mhat[0] * x_train + mhat[1]\n",
        "predicted_test_y = mhat[0] * x_test + mhat[1]\n",
        "\n",
        "\n",
        "train_error = mean_squared_error(y_train, predicted_train_y)\n",
        "test_error = mean_squared_error(y_test, predicted_test_y)\n",
        "print(f\"MSE train error: {train_error}\\nMSE test error: {test_error}\")"
      ]
    },
    {
      "cell_type": "markdown",
      "metadata": {
        "id": "6Y9T6GaBXs68"
      },
      "source": [
        "### Part3:\n",
        "Draw the line you've found in the last part, on train and test points (each separately)."
      ]
    },
    {
      "cell_type": "code",
      "execution_count": 101,
      "metadata": {
        "colab": {
          "base_uri": "https://localhost:8080/",
          "height": 298
        },
        "id": "SG7rKHpkXs69",
        "outputId": "daa9869c-c995-49b0-912c-7ce11036c7f2"
      },
      "outputs": [
        {
          "output_type": "execute_result",
          "data": {
            "text/plain": [
              "Text(0.5, 1.0, 'Train dataset')"
            ]
          },
          "metadata": {},
          "execution_count": 101
        },
        {
          "output_type": "display_data",
          "data": {
            "text/plain": [
              "<Figure size 432x288 with 1 Axes>"
            ],
            "image/png": "[encoded data removed]"
          },
          "metadata": {
            "needs_background": "light"
          }
        }
      ],
      "source": [
        "plt.scatter(x_train, y_train)\n",
        "\n",
        "plt.scatter(x_train,mhat[0] * x_train + mhat[1] , s=1)\n",
        "plt.title(\"Train dataset\")"
      ]
    },
    {
      "cell_type": "code",
      "execution_count": 94,
      "metadata": {
        "colab": {
          "base_uri": "https://localhost:8080/",
          "height": 298
        },
        "id": "Bvq1pJPlXs7A",
        "outputId": "86c7775a-3d2b-4610-cad1-a2143edfa86d"
      },
      "outputs": [
        {
          "output_type": "execute_result",
          "data": {
            "text/plain": [
              "Text(0.5, 1.0, 'Test dataset')"
            ]
          },
          "metadata": {},
          "execution_count": 94
        },
        {
          "output_type": "display_data",
          "data": {
            "text/plain": [
              "<Figure size 432x288 with 1 Axes>"
            ],
            "image/png": "[encoded data removed]"
          },
          "metadata": {
            "needs_background": "light"
          }
        }
      ],
      "source": [
        "plt.scatter(x_test, y_test)\n",
        "plt.scatter(x_test, mhat[0]*x_test +mhat[1], s=1)\n",
        "plt.title(\"Test dataset\")"
      ]
    },
    {
      "cell_type": "markdown",
      "metadata": {
        "id": "pJLE6yqJXs7B"
      },
      "source": [
        "### Part4:\n",
        "Were the reported accuracies acceptable?No  \n",
        "\n",
        "What about the line you drew in the last part?NO\n",
        "\n",
        "Was it appropriate for the dataset?NO\n",
        "From the last graph, it is clear that the prediction was not made correctly and the graph remained constant with the data changes"
      ]
    },
    {
      "cell_type": "markdown",
      "metadata": {
        "id": "SdtwAdTyXs7D"
      },
      "source": [
        "### Part5:\n",
        "Now, consider the `Locally Weighted Linear Regression` approach for this problem. Do expect it performs better than simple `Linear Regression` for this dataset?"
      ]
    },
    {
      "cell_type": "markdown",
      "metadata": {
        "id": "VnpqiJIcXs7E"
      },
      "source": [
        "The performance of this one is better than the linear regression model because the weighting of the coefficients increases the flexibility of the prediction and makes the prediction more accurate."
      ]
    },
    {
      "cell_type": "markdown",
      "metadata": {
        "id": "mzLmW7X4Xs7E"
      },
      "source": [
        "### Part6:\n",
        "Here, we want to implement the `suggested model`. You can implement any weight function you want, the below implementation is just a sample:\n",
        "<br><br/>\n",
        "\\begin{equation*}\n",
        "    w^{(i)}=exp\\left(-\\frac{(\\mathbf x^{(i)}-\\mathbf x)^\\top(\\mathbf x^{(i)}-\\mathbf x)}{2\\tau^2}\\right)\n",
        "\\end{equation*}"
      ]
    },
    {
      "cell_type": "code",
      "execution_count": 102,
      "metadata": {
        "id": "1iayGYZdXs7F"
      },
      "outputs": [],
      "source": [
        "\n",
        "\n",
        "def get_weight_matrix(the_query_point, train_dataset, hyperparameter):\n",
        "    l = train_dataset.shape[0]\n",
        "  \n",
        "    W = np.mat(np.eye(l))\n",
        "    for i ,xi in enumerate(train_dataset):\n",
        "        W[i, i] = np.exp(np.dot((xi-the_query_point),(xi-the_query_point).T)/(-2*(hyperparameter**2)))\n",
        "    return W\n",
        "\n"
      ]
    },
    {
      "cell_type": "markdown",
      "metadata": {
        "id": "GdcWGuCRXs7F"
      },
      "source": [
        "Now implement the `closed form solution` based on the following formula:\n",
        "<br><br/>\n",
        "\\begin{equation*}\n",
        "    \\boldsymbol\\theta=(X^\\top WX)^{-1}(X^\\top WY)\n",
        "\\end{equation*}\n",
        "<br><br/>\n",
        "Of course if you use another form, implement your own."
      ]
    },
    {
      "cell_type": "code",
      "execution_count": 103,
      "metadata": {
        "id": "l_xqYPsHXs7G"
      },
      "outputs": [],
      "source": [
        "\n",
        "\n",
        "\n",
        "def predict(train_X, train_Y, query_x, hyperparameter):\n",
        "    l = train_X.shape[0]\n",
        "    X =np.hstack((train_X,np.ones((l,1))))                                        # np.hstack((train_X,np.ones((l,1))))\n",
        "    qx = np.mat([query_x, 1])\n",
        "    W = get_weight_matrix(qx, X, hyperparameter)\n",
        "   \n",
        " \n",
        "    theta =np.linalg.pinv(X.T*(W*X))*(X.T*(W*train_Y))\n",
        "      \n",
        "\n",
        "    return np.dot(qx, theta)\n",
        "   "
      ]
    },
    {
      "cell_type": "markdown",
      "metadata": {
        "id": "EWwQz7abXs7H"
      },
      "source": [
        "### Part7:\n",
        "Report accuracy of this model on the test dataset. Also, draw a plot that contains (x_test, y_test) pairs and (x_test, predicted_y) pairs that differ in color."
      ]
    },
    {
      "cell_type": "code",
      "execution_count": 104,
      "metadata": {
        "colab": {
          "base_uri": "https://localhost:8080/"
        },
        "id": "C2-XvdElXs7H",
        "outputId": "e7c1bfc1-74a5-42a1-d468-7747fbe5aea4"
      },
      "outputs": [
        {
          "output_type": "stream",
          "name": "stdout",
          "text": [
            "MSE test error: 0.0957544740369233\n"
          ]
        }
      ],
      "source": [
        "hyperparameter=0.01\n",
        "\n",
        "predicted_y = [predict(x_train, y_train, query, hyperparameter) for query in x_test]\n",
        "predicted_y=np.reshape(predicted_y,(-1,1))\n",
        "error = mean_squared_error(y_test,predicted_y)\n",
        "print(f\"MSE test error: {error}\")"
      ]
    },
    {
      "cell_type": "code",
      "execution_count": 72,
      "metadata": {
        "colab": {
          "base_uri": "https://localhost:8080/",
          "height": 283
        },
        "id": "DUNHysGDXs7I",
        "outputId": "237a02b0-ade4-4bf7-b90a-398355db5cb8"
      },
      "outputs": [
        {
          "output_type": "execute_result",
          "data": {
            "text/plain": [
              "<matplotlib.collections.PathCollection at 0x7fccff72dcd0>"
            ]
          },
          "metadata": {},
          "execution_count": 72
        },
        {
          "output_type": "display_data",
          "data": {
            "text/plain": [
              "<Figure size 432x288 with 1 Axes>"
            ],
            "image/png": "[encoded data removed]"
          },
          "metadata": {
            "needs_background": "light"
          }
        }
      ],
      "source": [
        "plt.scatter(x_test, y_test, c=\"blue\")\n",
        "plt.scatter(x_test,predicted_y, c=\"yellow\")"
      ]
    },
    {
      "cell_type": "markdown",
      "metadata": {
        "id": "VJkxNaQpXs7I"
      },
      "source": [
        "### Part8:\n",
        "Is the performance of the new model better than the previous one? `Explain`."
      ]
    },
    {
      "cell_type": "markdown",
      "metadata": {
        "id": "v0DKelmKXs7J"
      },
      "source": [
        "the performance of this model is better because it shows all data changes.The smaller the hyperparameter value, the closer the test data is to the original data"
      ]
    },
    {
      "cell_type": "markdown",
      "metadata": {
        "id": "K_JuTXCVXs7J"
      },
      "source": [
        "### Part9:\n",
        "Now, we want to consider the `KNN` approach for this problem; Do you think it will perform well?"
      ]
    },
    {
      "cell_type": "markdown",
      "metadata": {
        "id": "yzOlu3RIXs7K"
      },
      "source": [
        "-write here-"
      ]
    },
    {
      "cell_type": "markdown",
      "metadata": {
        "id": "zX2LNUwRXs7K"
      },
      "source": [
        "### Part10:\n",
        "Implementing the `KNN model`."
      ]
    },
    {
      "cell_type": "code",
      "execution_count": 137,
      "metadata": {
        "id": "cGkff8sRXs7L"
      },
      "outputs": [],
      "source": [
        "\n",
        "\n",
        "class KNN:\n",
        "    def __init__(self, number_neighbours, X, Y):\n",
        "        self.k = number_neighbours\n",
        "        self.X = X\n",
        "        self.Y = Y\n",
        "\n",
        "    def distance(self,x1,x2):\n",
        "        distance = np.sqrt(np.sum((x1-x2)**2))\n",
        "        return distance\n",
        "\n",
        "    def return_nn_ids(self, sample):\n",
        "        indices =np.argsort([self.distance(x,sample) for x in self.X])[:self.k]\n",
        "      \n",
        "        return indices\n",
        "\n",
        "    def predict(self, x):\n",
        "      \n",
        "        neareest_indices = self.return_nn_ids(x)\n",
        "        predicted_y =[self.Y[i] for i in   neareest_indices]\n",
        "        return predicted_y\n",
        "       # [distance(x,x_train) for x_train in self.X_train]"
      ]
    },
    {
      "cell_type": "code",
      "execution_count": 138,
      "metadata": {
        "id": "MtMrwdQTXs7M"
      },
      "outputs": [],
      "source": [
        "def evaluation(k, x_train, y_train, x_test, y_test):\n",
        "    model = KNN(k, x_train, y_train)\n",
        "    predicted_y = [model.predict(x) for x in x_test]\n",
        "    error = mean_squared_error(y_test,predicted_y)\n",
        "    return error, predicted_y"
      ]
    },
    {
      "cell_type": "code",
      "execution_count": 139,
      "metadata": {
        "colab": {
          "base_uri": "https://localhost:8080/"
        },
        "id": "whWFLIB7Xs7N",
        "outputId": "eb1cb808-3a76-444d-d0cf-f96a051bc3c5"
      },
      "outputs": [
        {
          "output_type": "stream",
          "name": "stdout",
          "text": [
            "MSE error of KNN for test dataset: 0.14793854960365135\n"
          ]
        }
      ],
      "source": [
        "k=1\n",
        "\n",
        "error_knn, predicted_y = evaluation(k,x_train, y_train, x_test, y_test)\n",
        "print(f\"MSE error of KNN for test dataset: {error_knn}\")"
      ]
    },
    {
      "cell_type": "code",
      "execution_count": 140,
      "metadata": {
        "colab": {
          "base_uri": "https://localhost:8080/",
          "height": 283
        },
        "id": "DuAjHHN1Xs7N",
        "outputId": "f302fcbf-6520-4020-c0ce-da2214cdcbea"
      },
      "outputs": [
        {
          "output_type": "execute_result",
          "data": {
            "text/plain": [
              "<matplotlib.collections.PathCollection at 0x7fccffa9acd0>"
            ]
          },
          "metadata": {},
          "execution_count": 140
        },
        {
          "output_type": "display_data",
          "data": {
            "text/plain": [
              "<Figure size 432x288 with 1 Axes>"
            ],
            "image/png": "[encoded data removed]"
          },
          "metadata": {
            "needs_background": "light"
          }
        }
      ],
      "source": [
        "plt.scatter(x_test, y_test, c=\"blue\")\n",
        "plt.scatter(x_test, predicted_y, c=\"yellow\")"
      ]
    },
    {
      "cell_type": "markdown",
      "metadata": {
        "id": "iRy0xyhdXs7O"
      },
      "source": [
        "To find best K for this algorithm we suggest to use cross-validation.\n",
        "\n",
        "Did this model perform well (due to the plot and test accuracy)?\n",
        "\n",
        "\n",
        "\n",
        "Of course, it works better than the linear regression model, but according to the results, its accuracy is not better than Locally Weighted Linear Regression"
      ]
    },
    {
      "cell_type": "markdown",
      "metadata": {
        "id": "2bbFSr8AXs7P"
      },
      "source": [
        "-write here-"
      ]
    }
  ],
  "metadata": {
    "colab": {
      "collapsed_sections": [],
      "provenance": []
    },
    "kernelspec": {
      "display_name": "Python 3.7.4 64-bit",
      "language": "python",
      "name": "python3"
    },
    "language_info": {
      "codemirror_mode": {
        "name": "ipython",
        "version": 3
      },
      "file_extension": ".py",
      "mimetype": "text/x-python",
      "name": "python",
      "nbconvert_exporter": "python",
      "pygments_lexer": "ipython3",
      "version": "3.7.4"
    },
    "toc": {
      "base_numbering": 1,
      "nav_menu": {},
      "number_sections": true,
      "sideBar": true,
      "skip_h1_title": false,
      "title_cell": "Table of Contents",
      "title_sidebar": "Contents",
      "toc_cell": false,
      "toc_position": {},
      "toc_section_display": true,
      "toc_window_display": false
    },
    "varInspector": {
      "cols": {
        "lenName": 16,
        "lenType": 16,
        "lenVar": 40
      },
      "kernels_config": {
        "python": {
          "delete_cmd_postfix": "",
          "delete_cmd_prefix": "del ",
          "library": "var_list.py",
          "varRefreshCmd": "print(var_dic_list())"
        },
        "r": {
          "delete_cmd_postfix": ") ",
          "delete_cmd_prefix": "rm(",
          "library": "var_list.r",
          "varRefreshCmd": "cat(var_dic_list()) "
        }
      },
      "types_to_exclude": [
        "module",
        "function",
        "builtin_function_or_method",
        "instance",
        "_Feature"
      ],
      "window_display": false
    },
    "vscode": {
      "interpreter": {
        "hash": "aee8b7b246df8f9039afb4144a1f6fd8d2ca17a180786b69acc140d282b71a49"
      }
    }
  },
  "nbformat": 4,
  "nbformat_minor": 0
}